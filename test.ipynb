{
 "cells": [
  {
   "cell_type": "code",
   "execution_count": 148,
   "metadata": {},
   "outputs": [
    {
     "name": "stdout",
     "output_type": "stream",
     "text": [
      "['89%68-90%10']\n"
     ]
    }
   ],
   "source": [
    "import re\n",
    "import operator\n",
    "order_opeartions=['()','%','**','*','+','-']\n",
    "\n",
    "def split_string(expression):\n",
    "    # Use regular expression to split the string, keeping operators with the numbers\n",
    "    result = re.findall(r'\\d+|[+%*-]', expression)\n",
    "    print(result)\n",
    "    for op in order_opeartions:\n",
    "        while op in result:\n",
    "            if op in result:\n",
    "                print(op)\n",
    "                # Find the position of '%' in the expression\n",
    "                position = result.index(op)\n",
    "                # Print the position\n",
    "                print(f\"Position of {op}:\", position)\n",
    "                # Find the position of '%' in the expression\n",
    "                position = result.index(op)\n",
    "                val1=int(result[position-1])\n",
    "                val2=int(result[position+1])\n",
    "                if op=='+':\n",
    "                    result1=val1+val2\n",
    "                elif op=='-':\n",
    "                    result1=val1-val2\n",
    "                elif op=='/':\n",
    "                    result1=val1/val2\n",
    "                elif op=='%':\n",
    "                    result1=val1%val2\n",
    "                elif op=='*':\n",
    "                    result1=val1*val2\n",
    "                elif op=='**':\n",
    "                    result1=val1**val2\n",
    "            \n",
    "                result = result[:position - 1] + [str(result1)] + result[position + 2:]\n",
    "                print(result)\n",
    "\n",
    "    return result[0]\n",
    "        \n",
    "\n",
    "\n",
    "# Example usage\n",
    "string = '(89%68-90%10)-2'\n",
    "result = split_string(string)\n",
    "result\n",
    "\n",
    "\n"
   ]
  },
  {
   "cell_type": "code",
   "execution_count": 161,
   "metadata": {},
   "outputs": [
    {
     "name": "stdout",
     "output_type": "stream",
     "text": [
      "Initial split: ['2', '*', '5']\n",
      "After processing '*': ['10.0']\n",
      "After evaluating brackets: 3+10.0-(10/2)\n",
      "Initial split: ['10', '/', '2']\n",
      "After processing '/': ['5.0']\n",
      "After evaluating brackets: 3+10.0-5.0\n",
      "Initial split: ['3', '+', '10', '0', '-', '5', '0']\n",
      "After processing '+': ['13.0', '0', '-', '5', '0']\n",
      "After processing '-': ['13.0', '-5.0', '0']\n",
      "Final Result: 13.0\n"
     ]
    }
   ],
   "source": [
    "def find_brackets(expression):\n",
    "    \"\"\"\n",
    "    Recursively evaluates expressions with brackets (parentheses).\n",
    "    \"\"\"\n",
    "    expression = expression.replace(' ', '')\n",
    "    \n",
    "    # Find the innermost parentheses and evaluate them first\n",
    "    while '(' in expression:\n",
    "        # Match the innermost bracketed expression\n",
    "        sub_expr = re.search(r'\\(([^()]+)\\)', expression)\n",
    "        if sub_expr:\n",
    "            inner_result = split_string(sub_expr.group(1))\n",
    "            # Replace the evaluated sub-expression in the main expression\n",
    "            expression = expression[:sub_expr.start()] + str(inner_result) + expression[sub_expr.end():]\n",
    "            print(f\"After evaluating brackets: {expression}\")\n",
    "    \n",
    "    # Evaluate the final expression without parentheses\n",
    "    return split_string(expression)\n",
    "\n",
    "# Example usage\n",
    "expression = \"3 + (2 * 5) - (10 / 2)\"\n",
    "result = find_brackets(expression)\n",
    "print(\"Final Result:\", result)"
   ]
  },
  {
   "cell_type": "code",
   "execution_count": 162,
   "metadata": {},
   "outputs": [],
   "source": [
    "import math"
   ]
  },
  {
   "cell_type": "code",
   "execution_count": 169,
   "metadata": {},
   "outputs": [
    {
     "data": {
      "text/plain": [
       "'sin60'"
      ]
     },
     "execution_count": 169,
     "metadata": {},
     "output_type": "execute_result"
    }
   ],
   "source": [
    "x='sin60'\n",
    "x"
   ]
  },
  {
   "cell_type": "code",
   "execution_count": 195,
   "metadata": {},
   "outputs": [
    {
     "data": {
      "text/plain": [
       "'cos 0'"
      ]
     },
     "execution_count": 195,
     "metadata": {},
     "output_type": "execute_result"
    }
   ],
   "source": [
    "x='cos'\n",
    "y=0\n",
    "expression=x +' '+str(y)\n",
    "expression"
   ]
  },
  {
   "cell_type": "code",
   "execution_count": 196,
   "metadata": {},
   "outputs": [
    {
     "data": {
      "text/plain": [
       "1.0"
      ]
     },
     "execution_count": 196,
     "metadata": {},
     "output_type": "execute_result"
    }
   ],
   "source": [
    "import re\n",
    "import math\n",
    "from view import get_user_input\n",
    "\n",
    "\n",
    "def trigon_value(expression):\n",
    "    # Split the expression to extract function and value\n",
    "    split_exp = expression.split(sep=' ')\n",
    "    trigon_function = split_exp[0]\n",
    "    value= float(split_exp[1])\n",
    "    round_degrees=4\n",
    "\n",
    "    if trigon_function == 'sin':\n",
    "        result_trigon= round(math.sin(value), round_degrees)\n",
    "    elif trigon_function == 'cos':\n",
    "        result_trigon= round(math.cos(value), round_degrees)\n",
    "    elif trigon_function == 'cosec':\n",
    "        result_trigon= round(1 / math.sin(value), round_degrees) if math.sin(value) != 0 else \"Undefined\"\n",
    "    elif trigon_function == 'tan':\n",
    "        result_trigon= round(math.tan(value), round_degrees) if math.cos(value) != 0 else \"Undefined\"\n",
    "    elif trigon_function == 'arcsin':\n",
    "        result_trigon= round(1/ math.sin(value), round_degrees) if  math.sin(value) != 0 else \"Undefined\"\n",
    "    else:\n",
    "        result_trigon= \"Invalid Function\"\n",
    "    return result_trigon\n",
    "# Call the function and display the result\n",
    "result = trigon_value(expression)\n",
    "result\n",
    "\n",
    "\n",
    "    \n",
    "\n"
   ]
  },
  {
   "cell_type": "code",
   "execution_count": 101,
   "metadata": {},
   "outputs": [
    {
     "name": "stdout",
     "output_type": "stream",
     "text": [
      "Initial split: ['89', '+', '68', '%', '7']\n",
      "Processing operator: %\n",
      "Updated expression after %: ['89', '+', '5']\n",
      "Processing operator: +\n",
      "Updated expression after +: ['94']\n",
      "Final result: 94\n"
     ]
    }
   ],
   "source": [
    "import re\n",
    "import operator\n",
    "\n",
    "# Define the order of operations\n",
    "order_operations = ['()', '%', '**', '*', '+', '-']\n",
    "\n",
    "# Function to split and evaluate the expression\n",
    "def split_string(expression):\n",
    "    # Use regular expression to split the string, keeping operators with the numbers\n",
    "    result = re.findall(r'\\d+|[+%*-]', expression)\n",
    "    print(\"Initial split:\", result)\n",
    "\n",
    "    # Mapping operators to their respective functions\n",
    "    ops = {\n",
    "        '+': operator.add,\n",
    "        '-': operator.sub,\n",
    "        '*': operator.mul,\n",
    "        '%': operator.mod,\n",
    "        '**': operator.pow\n",
    "    }\n",
    "\n",
    "    # Loop through the operators based on order of precedence\n",
    "    for op in order_operations:\n",
    "        while op in result:  # Process all occurrences of the operator\n",
    "            print(f\"Processing operator: {op}\")\n",
    "            # Find the position of the operator\n",
    "            position = result.index(op)\n",
    "            \n",
    "            # Get the operands around the operator\n",
    "            val1 = int(result[position - 1])\n",
    "            val2 = int(result[position + 1])\n",
    "\n",
    "            # Perform the operation using the operator from the ops dictionary\n",
    "            result1 = ops[op](val1, val2)\n",
    "\n",
    "            # Update the expression by removing the operands and operator\n",
    "            result = result[:position - 1] + [str(result1)] + result[position + 2:]\n",
    "            \n",
    "            print(f\"Updated expression after {op}:\", result)\n",
    "\n",
    "    return result[0]  # The final result should be the only element left in the list\n",
    "\n",
    "# Example usage\n",
    "string = \"89+68%7\"\n",
    "result = split_string(string)\n",
    "print(\"Final result:\", result)\n"
   ]
  },
  {
   "cell_type": "code",
   "execution_count": 102,
   "metadata": {},
   "outputs": [
    {
     "data": {
      "text/plain": [
       "94"
      ]
     },
     "execution_count": 102,
     "metadata": {},
     "output_type": "execute_result"
    }
   ],
   "source": [
    "89+68%7\n"
   ]
  },
  {
   "cell_type": "code",
   "execution_count": null,
   "metadata": {},
   "outputs": [
    {
     "name": "stdout",
     "output_type": "stream",
     "text": [
      "The result of the expression '3 + (2 * (4 + 6)) - 5 / 5' is: 22.0\n"
     ]
    }
   ],
   "source": []
  },
  {
   "cell_type": "code",
   "execution_count": 198,
   "metadata": {},
   "outputs": [
    {
     "data": {
      "text/plain": [
       "22.0"
      ]
     },
     "execution_count": 198,
     "metadata": {},
     "output_type": "execute_result"
    }
   ],
   "source": [
    "3 + (2 * (4 + 6)) - 5 / 5\n"
   ]
  },
  {
   "cell_type": "code",
   "execution_count": 70,
   "metadata": {},
   "outputs": [
    {
     "data": {
      "text/plain": [
       "['89', '+68', '%7']"
      ]
     },
     "execution_count": 70,
     "metadata": {},
     "output_type": "execute_result"
    }
   ],
   "source": [
    "import re\n",
    "\n",
    "def split_string(expression):\n",
    "    # Use regular expression to split the string, keeping operators with the numbers\n",
    "    result = re.findall(r'\\d+|[+%*-]', expression)\n",
    "    first_item = result[0]  # The first element is treated separately\n",
    "    pairs = [result[i:i+2] for i in range(1, len(result), 2)]  # Pair the rest\n",
    "    string_result=[first_item] + [''.join(pair) for pair in pairs]\n",
    "    return string_result\n",
    "\n",
    "string = \"89+68%7\"\n",
    "result2=split_string(string)\n",
    "result2\n"
   ]
  },
  {
   "cell_type": "code",
   "execution_count": 232,
   "metadata": {},
   "outputs": [],
   "source": []
  },
  {
   "cell_type": "code",
   "execution_count": 260,
   "metadata": {},
   "outputs": [
    {
     "name": "stdout",
     "output_type": "stream",
     "text": [
      "['3', '-', '5', '+', '5', '/', '5']\n",
      "The result of the expression '3-5+5/5' is: -1.4\n"
     ]
    }
   ],
   "source": [
    "import re\n",
    "\n",
    "# Correct order of operations based on BODMAS\n",
    "order_operations = ['**', '*', '/', '%', '+', '-']\n",
    "\n",
    "def split_bodmas(expression):\n",
    "    expression=expression.replace(' ','')\n",
    "    print(expression)\n",
    "    result = re.findall(r'\\d+\\.?\\d*|[+\\-*/%()]', expression)\n",
    "    print(result)\n",
    "    for op in order_operations:\n",
    "        while op in result:\n",
    "            if op in result:\n",
    "                position = result.index(op)\n",
    "                print(position)\n",
    "                position_before=result[position-2]\n",
    "                print(position_before)\n",
    "                val1=float(result[position-1])\n",
    "                val2=float(result[position+1])\n",
    "                if op=='+' and position_before=='-':\n",
    "                    val1=-1*val1\n",
    "                    result1=-1*(val1+val2)\n",
    "                elif op=='+':\n",
    "                    result1=val1+val2\n",
    "                elif op=='-' and position_before=='-':\n",
    "                    val1=-1*val1\n",
    "                    result1=val1-val2\n",
    "                elif op=='-':\n",
    "                    result1=val1-val2\n",
    "                elif op=='/':\n",
    "                    result1=val1/val2\n",
    "                elif op=='%':\n",
    "                    result1=val1%val2\n",
    "                elif op=='*':\n",
    "                    result1=val1*val2\n",
    "                elif op=='**':\n",
    "                    result1=val1**val2\n",
    "\n",
    "\n",
    "                result = result[:position - 1] + [str(result1)] + result[position + 2:]\n",
    "                print(result)\n",
    "    return result[0]\n",
    "\n",
    "order_operations=['%','**','*','+','-','/']\n",
    "def split_bodmas(expression):\n",
    "    # Use regular expression to split the string, keeping operators with the numbers\n",
    "    result = re.findall(r'\\d+\\.?\\d*|[+\\-*/%()]', expression)\n",
    "    print(result)\n",
    "    for op in order_operations:\n",
    "        while op in result:\n",
    "            if op in result:\n",
    "                position = result.index(op)\n",
    "                # Find the position of '%' in the expression\n",
    "                position = result.index(op)\n",
    "                val1=float(result[position-1])\n",
    "                val2=float(result[position+1])\n",
    "                if op=='+':\n",
    "                    result1=val1+val2\n",
    "                elif op=='-':\n",
    "                    result1=val1-val2\n",
    "                elif op=='/':\n",
    "                    result1=val1/val2\n",
    "                elif op=='%':\n",
    "                    result1=val1%val2\n",
    "                elif op=='*':\n",
    "                    result1=val1*val2\n",
    "                elif op=='**':\n",
    "                    result1=val1**val2\n",
    "            \n",
    "                result = result[:position - 1] + [str(result1)] + result[position + 2:]\n",
    "\n",
    "    return result[0]\n",
    "def evaluate_expression(expression):\n",
    "    # Handle parentheses first\n",
    "    while '(' in expression:\n",
    "        # Find the innermost parentheses\n",
    "        start_idx = expression.find('(')\n",
    "        end_idx = expression.find(')')\n",
    "        print(start_idx)\n",
    "        # Extract the expression inside the parentheses\n",
    "        inner_expr = expression[start_idx + 1:end_idx]\n",
    "        print(inner_expr)\n",
    "        # Evaluate the inner expression using split_bodmas\n",
    "        result = str(split_bodmas(inner_expr))\n",
    "        \n",
    "        # Replace the whole parentheses expression with the result\n",
    "        expression = expression[:start_idx] + result + expression[end_idx + 1:]\n",
    "    \n",
    "    # After all parentheses are resolved, evaluate the remaining expression\n",
    "    return split_bodmas(expression)\n",
    "\n",
    "\n",
    "\n",
    "# Example usage\n",
    "expression = \"3-5+5/5\"\n",
    "result = evaluate_expression(expression)\n",
    "print(f\"The result of the expression '{expression}' is: {result}\")\n",
    "\n",
    "\n",
    "\n"
   ]
  },
  {
   "cell_type": "code",
   "execution_count": 234,
   "metadata": {},
   "outputs": [
    {
     "name": "stdout",
     "output_type": "stream",
     "text": [
      "['3', '-', '5', '+', '5', '/', '5']\n",
      "The result of the expression '3 - 5 + 5 / 5' is: -3.0\n"
     ]
    }
   ],
   "source": []
  },
  {
   "cell_type": "code",
   "execution_count": 233,
   "metadata": {},
   "outputs": [
    {
     "name": "stdout",
     "output_type": "stream",
     "text": [
      "['3', '-', '5', '+', '5', '/', '5']\n",
      "The result of the expression '3-5+5/5' is: -1.4\n"
     ]
    }
   ],
   "source": []
  },
  {
   "cell_type": "code",
   "execution_count": null,
   "metadata": {},
   "outputs": [],
   "source": []
  },
  {
   "cell_type": "code",
   "execution_count": 244,
   "metadata": {},
   "outputs": [
    {
     "name": "stdout",
     "output_type": "stream",
     "text": [
      "3-5+5/5\n",
      "['3', '-', '5', '+', '5', '/', '5']\n",
      "['3', '-', '5', '+', '1.0']\n",
      "['3', '-', '6.0']\n",
      "6.0\n",
      "['-3.0']\n",
      "The result of the expression '3 - 5 + 5 / 5' is: -3.0\n"
     ]
    }
   ],
   "source": [
    "import re\n",
    "\n",
    "# Correct order of operations based on BODMAS\n",
    "order_operations = ['**', '*', '/', '%', '+', '-']\n",
    "\n",
    "def split_bodmas(expression):\n",
    "    # Use regular expression to split the string, keeping operators with the numbers\n",
    "    expression=expression.replace(' ','')\n",
    "    print(expression)\n",
    "    result = re.findall(r'\\d+\\.?\\d*|[+\\-*/%()]', expression)\n",
    "    print(result)\n",
    "    for op in order_operations:\n",
    "        while op in result:\n",
    "            if op in result:\n",
    "                position = result.index(op)\n",
    "                # Find the position of '%' in the expression\n",
    "                position = result.index(op)\n",
    "                val1=float(result[position-1])\n",
    "                val2=float(result[position+1])\n",
    "                if op=='+':\n",
    "                    result1=val1+val2\n",
    "                elif op=='-':\n",
    "                    position_before=result[position-2]\n",
    "                    print(position_before)\n",
    "                    result1=val1-val2\n",
    "                elif op=='/':\n",
    "                    result1=val1/val2\n",
    "                elif op=='%':\n",
    "                    result1=val1%val2\n",
    "                elif op=='*':\n",
    "                    result1=val1*val2\n",
    "                elif op=='**':\n",
    "                    result1=val1**val2\n",
    "            \n",
    "                result = result[:position - 1] + [str(result1)] + result[position + 2:]\n",
    "                print(result)\n",
    "    return result[0]\n",
    "\n",
    "\n",
    "def evaluate_expression(expression):\n",
    "    # Handle parentheses first\n",
    "    while '(' in expression:\n",
    "        # Find the innermost parentheses\n",
    "        start_idx = expression.find('(')\n",
    "        end_idx = expression.find(')', start_idx)\n",
    "        \n",
    "        # Extract the expression inside the parentheses\n",
    "        inner_expr = expression[start_idx + 1:end_idx]\n",
    "        \n",
    "        # Evaluate the inner expression using split_bodmas\n",
    "        result = str(split_bodmas(inner_expr))\n",
    "        \n",
    "        # Replace the whole parentheses expression with the result\n",
    "        expression = expression[:start_idx] + result + expression[end_idx + 1:]\n",
    "    \n",
    "    # After all parentheses are resolved, evaluate the remaining expression\n",
    "    return split_bodmas(expression)\n",
    "\n",
    "# Example usage\n",
    "expression = \"3 - 5 + 5 / 5\"\n",
    "result = evaluate_expression(expression)\n",
    "print(f\"The result of the expression '{expression}' is: {result}\")\n"
   ]
  },
  {
   "cell_type": "code",
   "execution_count": 254,
   "metadata": {},
   "outputs": [
    {
     "name": "stdout",
     "output_type": "stream",
     "text": [
      "3-5-5/5\n",
      "['3', '-', '5', '-', '5', '/', '5']\n",
      "5\n",
      "-\n",
      "['3', '-', '5', '-', '1.0']\n",
      "1\n",
      "1.0\n",
      "['-2.0', '-', '1.0']\n",
      "1\n",
      "1.0\n",
      "['-3.0']\n"
     ]
    },
    {
     "data": {
      "text/plain": [
       "'-3.0'"
      ]
     },
     "execution_count": 254,
     "metadata": {},
     "output_type": "execute_result"
    }
   ],
   "source": [
    "import re\n",
    "\n",
    "# Correct order of operations based on BODMAS\n",
    "order_operations = ['**', '*', '/', '%', '+', '-']\n",
    "\n",
    "def split_bodmas(expression):\n",
    "    # Use regular expression to split the string, keeping operators with the numbers\n",
    "    expression=expression.replace(' ','')\n",
    "    print(expression)\n",
    "    result = re.findall(r'\\d+\\.?\\d*|[+\\-*/%()]', expression)\n",
    "    print(result)\n",
    "    for op in order_operations:\n",
    "        while op in result:\n",
    "            if op in result:\n",
    "                position = result.index(op)\n",
    "                print(position)\n",
    "                position_before=result[position-2]\n",
    "                print(position_before)\n",
    "                val1=float(result[position-1])\n",
    "                val2=float(result[position+1])\n",
    "                if op=='+' and position_before=='-':\n",
    "                    val1=-1*val1\n",
    "                    result1=-1*(val1+val2)\n",
    "                elif op=='+':\n",
    "                    result1=val1+val2\n",
    "                elif op=='-' and position_before=='-':\n",
    "                    val1=-1*val1\n",
    "                    result1=val1-val2\n",
    "                elif op=='-':\n",
    "                    result1=val1-val2\n",
    "                elif op=='/':\n",
    "                    result1=val1/val2\n",
    "                elif op=='%':\n",
    "                    result1=val1%val2\n",
    "                elif op=='*':\n",
    "                    result1=val1*val2\n",
    "                elif op=='**':\n",
    "                    result1=val1**val2\n",
    "\n",
    "\n",
    "                result = result[:position - 1] + [str(result1)] + result[position + 2:]\n",
    "                print(result)\n",
    "    return result[0]\n",
    "expression = \"3 - 5 - 5 / 5\"\n",
    "result = split_bodmas(expression)\n",
    "result"
   ]
  },
  {
   "cell_type": "code",
   "execution_count": null,
   "metadata": {},
   "outputs": [],
   "source": []
  },
  {
   "cell_type": "code",
   "execution_count": 259,
   "metadata": {},
   "outputs": [
    {
     "ename": "TypeError",
     "evalue": "argument of type 'float' is not iterable",
     "output_type": "error",
     "traceback": [
      "\u001b[1;31m---------------------------------------------------------------------------\u001b[0m",
      "\u001b[1;31mTypeError\u001b[0m                                 Traceback (most recent call last)",
      "Cell \u001b[1;32mIn[259], line 62\u001b[0m\n\u001b[0;32m     60\u001b[0m     \u001b[38;5;28;01mreturn\u001b[39;00m split_bodmas(expression)\n\u001b[0;32m     61\u001b[0m expression\u001b[38;5;241m=\u001b[39m\u001b[38;5;241m3\u001b[39m\u001b[38;5;241m+\u001b[39m\u001b[38;5;241m20\u001b[39m\u001b[38;5;241m*\u001b[39m\u001b[38;5;241m34\u001b[39m\u001b[38;5;241m-\u001b[39m(\u001b[38;5;241m23\u001b[39m\u001b[38;5;241m-\u001b[39m\u001b[38;5;241m20\u001b[39m)\u001b[38;5;241m/\u001b[39m\u001b[38;5;241m8\u001b[39m\n\u001b[1;32m---> 62\u001b[0m \u001b[38;5;28mprint\u001b[39m(\u001b[43mevaluate_expression\u001b[49m\u001b[43m(\u001b[49m\u001b[43mexpression\u001b[49m\u001b[43m)\u001b[49m)\n",
      "Cell \u001b[1;32mIn[259], line 45\u001b[0m, in \u001b[0;36mevaluate_expression\u001b[1;34m(expression)\u001b[0m\n\u001b[0;32m     43\u001b[0m \u001b[38;5;28;01mdef\u001b[39;00m \u001b[38;5;21mevaluate_expression\u001b[39m(expression):\n\u001b[0;32m     44\u001b[0m     \u001b[38;5;66;03m# Handle parentheses first\u001b[39;00m\n\u001b[1;32m---> 45\u001b[0m     \u001b[38;5;28;01mwhile\u001b[39;00m \u001b[38;5;124;43m'\u001b[39;49m\u001b[38;5;124;43m(\u001b[39;49m\u001b[38;5;124;43m'\u001b[39;49m\u001b[43m \u001b[49m\u001b[38;5;129;43;01min\u001b[39;49;00m\u001b[43m \u001b[49m\u001b[43mexpression\u001b[49m:\n\u001b[0;32m     46\u001b[0m         \u001b[38;5;66;03m# Find the innermost parentheses\u001b[39;00m\n\u001b[0;32m     47\u001b[0m         start_idx \u001b[38;5;241m=\u001b[39m expression\u001b[38;5;241m.\u001b[39mfind(\u001b[38;5;124m'\u001b[39m\u001b[38;5;124m(\u001b[39m\u001b[38;5;124m'\u001b[39m)\n\u001b[0;32m     48\u001b[0m         end_idx \u001b[38;5;241m=\u001b[39m expression\u001b[38;5;241m.\u001b[39mfind(\u001b[38;5;124m'\u001b[39m\u001b[38;5;124m)\u001b[39m\u001b[38;5;124m'\u001b[39m, start_idx)\n",
      "\u001b[1;31mTypeError\u001b[0m: argument of type 'float' is not iterable"
     ]
    }
   ],
   "source": [
    "import re\n",
    "\n",
    "# Correct order of operations based on BODMAS\n",
    "order_operations = ['**', '*', '/', '%', '+', '-']\n",
    "\n",
    "def split_bodmas(expression):\n",
    "    expression=expression.replace(' ','')\n",
    "    print(expression)\n",
    "    result = re.findall(r'\\d+\\.?\\d*|[+\\-*/%()]', expression)\n",
    "    print(result)\n",
    "    for op in order_operations:\n",
    "        while op in result:\n",
    "            if op in result:\n",
    "                position = result.index(op)\n",
    "                print(position)\n",
    "                position_before=result[position-2]\n",
    "                print(position_before)\n",
    "                val1=float(result[position-1])\n",
    "                val2=float(result[position+1])\n",
    "                if op=='+' and position_before=='-':\n",
    "                    val1=-1*val1\n",
    "                    result1=-1*(val1+val2)\n",
    "                elif op=='+':\n",
    "                    result1=val1+val2\n",
    "                elif op=='-' and position_before=='-':\n",
    "                    val1=-1*val1\n",
    "                    result1=val1-val2\n",
    "                elif op=='-':\n",
    "                    result1=val1-val2\n",
    "                elif op=='/':\n",
    "                    result1=val1/val2\n",
    "                elif op=='%':\n",
    "                    result1=val1%val2\n",
    "                elif op=='*':\n",
    "                    result1=val1*val2\n",
    "                elif op=='**':\n",
    "                    result1=val1**val2\n",
    "\n",
    "\n",
    "                result = result[:position - 1] + [str(result1)] + result[position + 2:]\n",
    "    return result[0]\n",
    "\n",
    "def evaluate_expression(expression):\n",
    "    # Handle parentheses first\n",
    "    while '(' in expression:\n",
    "        # Find the innermost parentheses\n",
    "        start_idx = expression.find('(')\n",
    "        end_idx = expression.find(')', start_idx)\n",
    "        \n",
    "        # Extract the expression inside the parentheses\n",
    "        inner_expr = expression[start_idx + 1:end_idx]\n",
    "        \n",
    "        # Evaluate the inner expression using split_bodmas\n",
    "        result = str(split_bodmas(inner_expr))\n",
    "        \n",
    "        # Replace the whole parentheses expression with the result\n",
    "        expression = expression[:start_idx] + result + expression[end_idx + 1:]\n",
    "    \n",
    "    # After all parentheses are resolved, evaluate the remaining expression\n",
    "    return split_bodmas(expression)\n",
    "expression=3+20*34-(23-20)/8\n",
    "print(evaluate_expression(expression))"
   ]
  },
  {
   "cell_type": "code",
   "execution_count": 257,
   "metadata": {},
   "outputs": [
    {
     "name": "stdout",
     "output_type": "stream",
     "text": [
      "682.625\n"
     ]
    }
   ],
   "source": [
    "\n",
    "import re\n",
    "\n",
    "# Correct order of operations based on BODMAS\n",
    "order_operations = ['**', '*', '/', '%', '+', '-']\n",
    "\n",
    "def split_bodmas(expression):\n",
    "    expression = expression.replace(' ', '')  # Remove spaces\n",
    "    result = re.findall(r'\\d+\\.?\\d*|[+\\-*/%()]', expression)  # Split expression into numbers and operators\n",
    "\n",
    "    for op in order_operations:\n",
    "        while op in result:\n",
    "            position = result.index(op)\n",
    "            \n",
    "            # Ensure that negative signs are handled correctly\n",
    "            val1 = float(result[position - 1]) if result[position - 1] not in ('-', '+') else float(result[position - 1] + result[position])\n",
    "            val2 = float(result[position + 1])\n",
    "\n",
    "            # Apply the operation based on BODMAS\n",
    "            if op == '+':\n",
    "                result1 = val1 + val2\n",
    "            elif op == '-':\n",
    "                result1 = val1 - val2\n",
    "            elif op == '*':\n",
    "                result1 = val1 * val2\n",
    "            elif op == '/':\n",
    "                result1 = val1 / val2\n",
    "            elif op == '%':\n",
    "                result1 = val1 % val2\n",
    "            elif op == '**':\n",
    "                result1 = val1 ** val2\n",
    "\n",
    "            # Update the result expression\n",
    "            result = result[:position - 1] + [str(result1)] + result[position + 2:]\n",
    "\n",
    "    return result[0]  # Return the final result as a string\n",
    "\n",
    "\n",
    "def evaluate_expression(expression):\n",
    "    # Handle parentheses first\n",
    "    while '(' in expression:\n",
    "        # Find the innermost parentheses\n",
    "        start_idx = expression.find('(')\n",
    "        end_idx = expression.find(')', start_idx)\n",
    "        \n",
    "        # Extract the expression inside the parentheses\n",
    "        inner_expr = expression[start_idx + 1:end_idx]\n",
    "        \n",
    "        # Evaluate the inner expression using split_bodmas\n",
    "        result = str(split_bodmas(inner_expr))\n",
    "        \n",
    "        # Replace the whole parentheses expression with the result\n",
    "        expression = expression[:start_idx] + result + expression[end_idx + 1:]\n",
    "    \n",
    "    # After all parentheses are resolved, evaluate the remaining expression\n",
    "    return split_bodmas(expression)\n",
    "\n",
    "\n",
    "# Test the expression\n",
    "expression = \"3 + 20 * 34 - (23 - 20) / 8\"\n",
    "print(evaluate_expression(expression))\n"
   ]
  },
  {
   "cell_type": "code",
   "execution_count": null,
   "metadata": {},
   "outputs": [],
   "source": []
  },
  {
   "cell_type": "code",
   "execution_count": 264,
   "metadata": {},
   "outputs": [],
   "source": [
    "import re\n",
    "\n",
    "# Correct order of operations based on BODMAS\n",
    "order_operations = ['**', '*', '/', '%', '+', '-']\n",
    "\n",
    "def split_bodmas(expression):\n",
    "    expression=expression.replace(' ','')\n",
    "    print(expression)\n",
    "    result = re.findall(r'\\d+\\.?\\d*|[+\\-*/%()]', expression)\n",
    "    print(result)\n",
    "    for op in order_operations:\n",
    "        while op in result:\n",
    "            if op in result:\n",
    "                position = result.index(op)\n",
    "                print(position)\n",
    "                position_before=result[position-2]\n",
    "                print(position_before)\n",
    "                val1=float(result[position-1])\n",
    "                val2=float(result[position+1])\n",
    "                if op=='+' and position_before=='-':\n",
    "                    val1=-1*val1\n",
    "                    result1=-1*(val1+val2)\n",
    "                elif op=='+':\n",
    "                    result1=val1+val2\n",
    "                elif op=='-' and position_before=='-':\n",
    "                    val1=-1*val1\n",
    "                    result1=val1-val2\n",
    "                elif op=='-':\n",
    "                    result1=val1-val2\n",
    "                elif op=='/':\n",
    "                    result1=val1/val2\n",
    "                elif op=='%':\n",
    "                    result1=val1%val2\n",
    "                elif op=='*':\n",
    "                    result1=val1*val2\n",
    "                elif op=='**':\n",
    "                    result1=val1**val2\n",
    "\n",
    "\n",
    "                result = result[:position - 1] + [str(result1)] + result[position + 2:]\n",
    "                print(result)\n",
    "    return result[0]\n",
    "\n",
    "def evaluate_expression(expression):\n",
    "    # Handle parentheses first\n",
    "    while '(' in expression:\n",
    "        # Find the innermost parentheses\n",
    "        start_idx = expression.find('(')\n",
    "        end_idx = expression.find(')', start_idx)\n",
    "        \n",
    "        # Extract the expression inside the parentheses\n",
    "        inner_expr = expression[start_idx + 1:end_idx]\n",
    "        \n",
    "        # Evaluate the inner expression using split_bodmas\n",
    "        result = str(split_bodmas(inner_expr))\n",
    "        \n",
    "        # Replace the whole parentheses expression with the result\n",
    "        expression = expression[:start_idx] + result + expression[end_idx + 1:]\n",
    "    \n",
    "    # After all parentheses are resolved, evaluate the remaining expression\n",
    "    return split_bodmas(expression)"
   ]
  },
  {
   "cell_type": "code",
   "execution_count": 265,
   "metadata": {},
   "outputs": [
    {
     "name": "stdout",
     "output_type": "stream",
     "text": [
      "23-20\n",
      "['23', '-', '20']\n",
      "1\n",
      "20\n",
      "['3.0']\n",
      "3+20*34-3.0/8\n",
      "['3', '+', '20', '*', '34', '-', '3.0', '/', '8']\n",
      "3\n",
      "+\n",
      "['3', '+', '680.0', '-', '3.0', '/', '8']\n",
      "5\n",
      "-\n",
      "['3', '+', '680.0', '-', '0.375']\n",
      "1\n",
      "0.375\n",
      "['683.0', '-', '0.375']\n",
      "1\n",
      "0.375\n",
      "['682.625']\n",
      "682.625\n"
     ]
    }
   ],
   "source": [
    "expression = \"3 + 20 * 34 - (23 - 20) / 8\"\n",
    "print(evaluate_expression(expression))"
   ]
  }
 ],
 "metadata": {
  "kernelspec": {
   "display_name": "Python 3",
   "language": "python",
   "name": "python3"
  },
  "language_info": {
   "codemirror_mode": {
    "name": "ipython",
    "version": 3
   },
   "file_extension": ".py",
   "mimetype": "text/x-python",
   "name": "python",
   "nbconvert_exporter": "python",
   "pygments_lexer": "ipython3",
   "version": "3.11.2"
  }
 },
 "nbformat": 4,
 "nbformat_minor": 2
}
