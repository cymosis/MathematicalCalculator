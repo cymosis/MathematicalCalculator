{
 "cells": [
  {
   "cell_type": "code",
   "execution_count": 13,
   "metadata": {},
   "outputs": [
    {
     "name": "stdout",
     "output_type": "stream",
     "text": [
      "Limit of the function as x approaches infinity is: 3\n"
     ]
    }
   ],
   "source": [
    "import sympy as sp\n",
    "\n",
    "# Define the symbol\n",
    "x = sp.symbols('x')\n",
    "\n",
    "# Define the function\n",
    "top = sp.sqrt((4 * x**2 )+ (7 * x )- 5)\n",
    "bottom = sp.sqrt((x**2) -( 2 * x )+ 11)\n",
    "f = (3+(9*x)+-16)/(top+bottom)\n",
    "\n",
    "\n",
    "# Evaluate the limit as x approaches infinity\n",
    "limit_at_infinity = sp.limit(f, x, sp.oo)\n",
    "\n",
    "print(f\"Limit of the function as x approaches infinity is: {limit_at_infinity}\")\n"
   ]
  },
  {
   "cell_type": "code",
   "execution_count": null,
   "metadata": {},
   "outputs": [
    {
     "name": "stdout",
     "output_type": "stream",
     "text": [
      "['89%68-90%10']\n"
     ]
    }
   ],
   "source": [
    "import sympy as sp\n",
    "\n",
    "# Define the variable and the function\n",
    "x = sp.Symbol('x', real=True)\n",
    "y = sp.Symbol('y', real=True)  # Represents the output of the function\n",
    "\n",
    "# Define the function f(x)\n",
    "f =( x**2 )- (16 * x) + 17\n",
    "\n",
    "# Solve for x in terms of y (the inverse relation)\n",
    "inverse_relation = sp.solve(f - y, x)\n",
    "\n",
    "# Define the interval for the function\n",
    "interval = sp.Interval(6, sp.oo)\n",
    "\n",
    "# Filter the solutions to keep only those valid within the interval\n",
    "inverse_in_interval = [sol for sol in inverse_relation if sol.evalf(subs={y: 6}) in interval]\n",
    "\n",
    "# Display the inverse restricted to the interval [6, +∞)\n",
    "print(\"Inverse restricted to [6, +\\u221e):\", inverse_in_interval)\n"
   ]
  },
  {
   "cell_type": "code",
   "execution_count": 2,
   "metadata": {},
   "outputs": [
    {
     "name": "stdout",
     "output_type": "stream",
     "text": [
      "Collecting sympyNote: you may need to restart the kernel to use updated packages.\n"
     ]
    },
    {
     "name": "stderr",
     "output_type": "stream",
     "text": [
      "\n",
      "[notice] A new release of pip available: 22.3.1 -> 24.3.1\n",
      "[notice] To update, run: python.exe -m pip install --upgrade pip\n"
     ]
    },
    {
     "name": "stdout",
     "output_type": "stream",
     "text": [
      "\n",
      "  Downloading sympy-1.13.3-py3-none-any.whl (6.2 MB)\n",
      "     ---------------------------------------- 6.2/6.2 MB 3.2 MB/s eta 0:00:00\n",
      "Collecting mpmath<1.4,>=1.1.0\n",
      "  Downloading mpmath-1.3.0-py3-none-any.whl (536 kB)\n",
      "     -------------------------------------- 536.2/536.2 kB 4.8 MB/s eta 0:00:00\n",
      "Installing collected packages: mpmath, sympy\n",
      "Successfully installed mpmath-1.3.0 sympy-1.13.3\n"
     ]
    }
   ],
   "source": [
    "pip install sympy"
   ]
  }
 ],
 "metadata": {
  "kernelspec": {
   "display_name": "Python 3",
   "language": "python",
   "name": "python3"
  },
  "language_info": {
   "codemirror_mode": {
    "name": "ipython",
    "version": 3
   },
   "file_extension": ".py",
   "mimetype": "text/x-python",
   "name": "python",
   "nbconvert_exporter": "python",
   "pygments_lexer": "ipython3",
   "version": "3.11.2"
  }
 },
 "nbformat": 4,
 "nbformat_minor": 2
}
