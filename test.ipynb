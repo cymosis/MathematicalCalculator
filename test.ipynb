{
 "cells": [
  {
   "cell_type": "code",
   "execution_count": 148,
   "metadata": {},
   "outputs": [
    {
     "name": "stdout",
     "output_type": "stream",
     "text": [
      "['89%68-90%10']\n"
     ]
    }
   ],
   "source": [
    "import re\n",
    "import operator\n",
    "order_opeartions=['()','%','**','*','+','-']\n",
    "\n",
    "def split_string(expression):\n",
    "    # Use regular expression to split the string, keeping operators with the numbers\n",
    "    result = re.findall(r'\\d+|[+%*-]', expression)\n",
    "    print(result)\n",
    "    for op in order_opeartions:\n",
    "        while op in result:\n",
    "            if op in result:\n",
    "                print(op)\n",
    "                # Find the position of '%' in the expression\n",
    "                position = result.index(op)\n",
    "                # Print the position\n",
    "                print(f\"Position of {op}:\", position)\n",
    "                # Find the position of '%' in the expression\n",
    "                position = result.index(op)\n",
    "                val1=int(result[position-1])\n",
    "                val2=int(result[position+1])\n",
    "                if op=='+':\n",
    "                    result1=val1+val2\n",
    "                elif op=='-':\n",
    "                    result1=val1-val2\n",
    "                elif op=='/':\n",
    "                    result1=val1/val2\n",
    "                elif op=='%':\n",
    "                    result1=val1%val2\n",
    "                elif op=='*':\n",
    "                    result1=val1*val2\n",
    "                elif op=='**':\n",
    "                    result1=val1**val2\n",
    "            \n",
    "                result = result[:position - 1] + [str(result1)] + result[position + 2:]\n",
    "                print(result)\n",
    "\n",
    "    return result[0]\n",
    "        \n",
    "\n",
    "\n",
    "# Example usage\n",
    "string = '(89%68-90%10)-2'\n",
    "result = split_string(string)\n",
    "result\n",
    "\n",
    "\n"
   ]
  },
  {
   "cell_type": "code",
   "execution_count": 149,
   "metadata": {},
   "outputs": [
    {
     "name": "stdout",
     "output_type": "stream",
     "text": [
      "Expression outside brackets: (['2 * 5', '10 / 2'], '3 +  -')\n"
     ]
    }
   ],
   "source": [
    "import re\n",
    "\n",
    "\n",
    "def find_brackets(expression):\n",
    "    # Find all the content inside brackets\n",
    "    brackets = re.findall(r'\\(([^)]+)\\)', expression)\n",
    "    # Remove the brackets and their content from the original expression\n",
    "    non_bracket_expr = re.sub(r'\\([^)]*\\)', '', expression)\n",
    "    # Return the result\n",
    "    return brackets,non_bracket_expr.strip()\n",
    "# Example usage\n",
    "expression = \"3 + (2 * 5) - (10 / 2)\"\n",
    "non_bracket_expression = find_brackets(expression)\n",
    "\n",
    "# Display the result\n",
    "print(f\"Expression outside brackets: {non_bracket_expression}\")\n"
   ]
  },
  {
   "cell_type": "code",
   "execution_count": 145,
   "metadata": {},
   "outputs": [
    {
     "ename": "NameError",
     "evalue": "name 'sin' is not defined",
     "output_type": "error",
     "traceback": [
      "\u001b[1;31m---------------------------------------------------------------------------\u001b[0m",
      "\u001b[1;31mNameError\u001b[0m                                 Traceback (most recent call last)",
      "Cell \u001b[1;32mIn[145], line 1\u001b[0m\n\u001b[1;32m----> 1\u001b[0m \u001b[43msin\u001b[49m(\u001b[38;5;241m60\u001b[39m)\n",
      "\u001b[1;31mNameError\u001b[0m: name 'sin' is not defined"
     ]
    }
   ],
   "source": [
    "sin(60)"
   ]
  },
  {
   "cell_type": "code",
   "execution_count": 101,
   "metadata": {},
   "outputs": [
    {
     "name": "stdout",
     "output_type": "stream",
     "text": [
      "Initial split: ['89', '+', '68', '%', '7']\n",
      "Processing operator: %\n",
      "Updated expression after %: ['89', '+', '5']\n",
      "Processing operator: +\n",
      "Updated expression after +: ['94']\n",
      "Final result: 94\n"
     ]
    }
   ],
   "source": [
    "import re\n",
    "import operator\n",
    "\n",
    "# Define the order of operations\n",
    "order_operations = ['()', '%', '**', '*', '+', '-']\n",
    "\n",
    "# Function to split and evaluate the expression\n",
    "def split_string(expression):\n",
    "    # Use regular expression to split the string, keeping operators with the numbers\n",
    "    result = re.findall(r'\\d+|[+%*-]', expression)\n",
    "    print(\"Initial split:\", result)\n",
    "\n",
    "    # Mapping operators to their respective functions\n",
    "    ops = {\n",
    "        '+': operator.add,\n",
    "        '-': operator.sub,\n",
    "        '*': operator.mul,\n",
    "        '%': operator.mod,\n",
    "        '**': operator.pow\n",
    "    }\n",
    "\n",
    "    # Loop through the operators based on order of precedence\n",
    "    for op in order_operations:\n",
    "        while op in result:  # Process all occurrences of the operator\n",
    "            print(f\"Processing operator: {op}\")\n",
    "            # Find the position of the operator\n",
    "            position = result.index(op)\n",
    "            \n",
    "            # Get the operands around the operator\n",
    "            val1 = int(result[position - 1])\n",
    "            val2 = int(result[position + 1])\n",
    "\n",
    "            # Perform the operation using the operator from the ops dictionary\n",
    "            result1 = ops[op](val1, val2)\n",
    "\n",
    "            # Update the expression by removing the operands and operator\n",
    "            result = result[:position - 1] + [str(result1)] + result[position + 2:]\n",
    "            \n",
    "            print(f\"Updated expression after {op}:\", result)\n",
    "\n",
    "    return result[0]  # The final result should be the only element left in the list\n",
    "\n",
    "# Example usage\n",
    "string = \"89+68%7\"\n",
    "result = split_string(string)\n",
    "print(\"Final result:\", result)\n"
   ]
  },
  {
   "cell_type": "code",
   "execution_count": 102,
   "metadata": {},
   "outputs": [
    {
     "data": {
      "text/plain": [
       "94"
      ]
     },
     "execution_count": 102,
     "metadata": {},
     "output_type": "execute_result"
    }
   ],
   "source": [
    "89+68%7\n"
   ]
  },
  {
   "cell_type": "code",
   "execution_count": 93,
   "metadata": {},
   "outputs": [
    {
     "data": {
      "text/plain": [
       "5"
      ]
     },
     "execution_count": 93,
     "metadata": {},
     "output_type": "execute_result"
    }
   ],
   "source": []
  },
  {
   "cell_type": "code",
   "execution_count": 92,
   "metadata": {},
   "outputs": [
    {
     "data": {
      "text/plain": [
       "5"
      ]
     },
     "execution_count": 92,
     "metadata": {},
     "output_type": "execute_result"
    }
   ],
   "source": [
    "68%7"
   ]
  },
  {
   "cell_type": "code",
   "execution_count": 70,
   "metadata": {},
   "outputs": [
    {
     "data": {
      "text/plain": [
       "['89', '+68', '%7']"
      ]
     },
     "execution_count": 70,
     "metadata": {},
     "output_type": "execute_result"
    }
   ],
   "source": [
    "import re\n",
    "\n",
    "def split_string(expression):\n",
    "    # Use regular expression to split the string, keeping operators with the numbers\n",
    "    result = re.findall(r'\\d+|[+%*-]', expression)\n",
    "    first_item = result[0]  # The first element is treated separately\n",
    "    pairs = [result[i:i+2] for i in range(1, len(result), 2)]  # Pair the rest\n",
    "    string_result=[first_item] + [''.join(pair) for pair in pairs]\n",
    "    return string_result\n",
    "\n",
    "string = \"89+68%7\"\n",
    "result2=split_string(string)\n",
    "result2\n"
   ]
  },
  {
   "cell_type": "code",
   "execution_count": 73,
   "metadata": {},
   "outputs": [
    {
     "name": "stdout",
     "output_type": "stream",
     "text": [
      "89%7+68\n"
     ]
    }
   ],
   "source": [
    "def custom_sort(string_result):\n",
    "    order = ['()', '%', '**', '*', '+', '-']\n",
    "    \n",
    "    def sort_key(item):\n",
    "        # Create a sorting key based on the position of characters in 'order'\n",
    "        for symbol in order:\n",
    "            if symbol in item:\n",
    "                return order.index(symbol)\n",
    "        return -1  # Items that don't contain any symbol come first\n",
    "    \n",
    "    sorted_result=sorted(string_result, key=sort_key)\n",
    "    sorted_result=''.join(sorted_result)\n",
    "    eval_result=eval(sorted_result)\n",
    "\n",
    "    return sorted_result\n",
    "\n",
    "print(custom_sort(result2))"
   ]
  },
  {
   "cell_type": "code",
   "execution_count": 75,
   "metadata": {},
   "outputs": [
    {
     "data": {
      "text/plain": [
       "94"
      ]
     },
     "execution_count": 75,
     "metadata": {},
     "output_type": "execute_result"
    }
   ],
   "source": [
    "89+68%7"
   ]
  },
  {
   "cell_type": "code",
   "execution_count": 58,
   "metadata": {},
   "outputs": [
    {
     "ename": "SyntaxError",
     "evalue": "invalid syntax (<string>, line 1)",
     "output_type": "error",
     "traceback": [
      "Traceback \u001b[1;36m(most recent call last)\u001b[0m:\n",
      "\u001b[0m  File \u001b[0;32m~\\AppData\\Roaming\\Python\\Python311\\site-packages\\IPython\\core\\interactiveshell.py:3577\u001b[0m in \u001b[0;35mrun_code\u001b[0m\n    exec(code_obj, self.user_global_ns, self.user_ns)\u001b[0m\n",
      "\u001b[0m  Cell \u001b[0;32mIn[58], line 18\u001b[0m\n    sorted_arr = custom_sort(result)\u001b[0m\n",
      "\u001b[1;36m  Cell \u001b[1;32mIn[58], line 13\u001b[1;36m in \u001b[1;35mcustom_sort\u001b[1;36m\n\u001b[1;33m    eval_result=eval(sorted_result)\u001b[1;36m\n",
      "\u001b[1;36m  File \u001b[1;32m<string>:1\u001b[1;36m\u001b[0m\n\u001b[1;33m    89687%+\u001b[0m\n\u001b[1;37m          ^\u001b[0m\n\u001b[1;31mSyntaxError\u001b[0m\u001b[1;31m:\u001b[0m invalid syntax\n"
     ]
    }
   ],
   "source": [
    "def custom_sort(result):\n",
    "    order = ['()', '%', '**', '*', '+', '-']\n",
    "    \n",
    "    def sort_key(item):\n",
    "        # Create a sorting key based on the position of characters in 'order'\n",
    "        for symbol in order:\n",
    "            if symbol in item:\n",
    "                return order.index(symbol)\n",
    "        return -1  # Items that don't contain any symbol come first\n",
    "    \n",
    "    # Sort based on the custom operator order\n",
    "    sorted_result = sorted(result, key=sort_key)\n",
    "    \n",
    "    # Rebuild the expression from the sorted result\n",
    "    sorted_expression = ''.join(sorted_result)\n",
    "    \n",
    "    # Evaluate the expression\n",
    "    eval_result = eval(sorted_expression)\n",
    "    \n",
    "    return sorted_expression\n",
    "\n",
    "# Example usage\n",
    "sorted_arr = custom_sort(result)\n",
    "print(\"Evaluated result:\", sorted_arr)"
   ]
  },
  {
   "cell_type": "code",
   "execution_count": 36,
   "metadata": {},
   "outputs": [
    {
     "data": {
      "text/plain": [
       "6"
      ]
     },
     "execution_count": 36,
     "metadata": {},
     "output_type": "execute_result"
    }
   ],
   "source": [
    "eval(sorted_arr)"
   ]
  },
  {
   "cell_type": "code",
   "execution_count": 34,
   "metadata": {},
   "outputs": [
    {
     "data": {
      "text/plain": [
       "6"
      ]
     },
     "execution_count": 34,
     "metadata": {},
     "output_type": "execute_result"
    }
   ],
   "source": [
    "7%7+6"
   ]
  }
 ],
 "metadata": {
  "kernelspec": {
   "display_name": "Python 3",
   "language": "python",
   "name": "python3"
  },
  "language_info": {
   "codemirror_mode": {
    "name": "ipython",
    "version": 3
   },
   "file_extension": ".py",
   "mimetype": "text/x-python",
   "name": "python",
   "nbconvert_exporter": "python",
   "pygments_lexer": "ipython3",
   "version": "3.11.2"
  }
 },
 "nbformat": 4,
 "nbformat_minor": 2
}
